{
  "nbformat": 4,
  "nbformat_minor": 0,
  "metadata": {
    "colab": {
      "name": "transitions and transversions",
      "provenance": [],
      "collapsed_sections": []
    },
    "kernelspec": {
      "name": "python3",
      "display_name": "Python 3"
    },
    "language_info": {
      "name": "python"
    }
  },
  "cells": [
    {
      "cell_type": "code",
      "source": [
        "s1 = 'TGGTTCCAGTGGCCGACGGCCTGGGATTGTTGAAAGTACATAGGGACGACGTAAAGAAGA'\n",
        "s2 = 'CGGTTTTAATGATTGGTAGCCTAGGGTTGCCAAAAATACATAATAGCGACGTAGAAGAAA'\n",
        "P=0\n",
        "sites=[]\n",
        "for i in range(len(s1)):\n",
        "    if s1[i]=='A' and s2[i]=='G':\n",
        "      P+=1\n",
        "      z=(i+1)\n",
        "      sites.append(z)\n",
        "    if s1[i]=='G' and s2[i]=='A':\n",
        "      P+=1\n",
        "      z=(i+1)\n",
        "      sites.append(z)\n",
        "    if s1[i]=='C' and s2[i]=='T':\n",
        "      P+=1\n",
        "      z=(i+1)\n",
        "      sites.append(z)\n",
        "    if s1[i]=='T' and s2[i]=='C':\n",
        "      P+=1\n",
        "      z=(i+1)\n",
        "      sites.append(z)\n",
        "print('transitions',P)\n",
        "x=len([i for i in range(len(s1)) if s1[i] != s2[i]])\n",
        "Q = x-P\n",
        "print('transversions',Q)\n",
        "print('number of different sites',x)\n",
        "print('locations at which sites differ',sites)"
      ],
      "metadata": {
        "colab": {
          "base_uri": "https://localhost:8080/"
        },
        "id": "DiOlEtjVqjdj",
        "outputId": "3cb8350c-ffba-4c08-f290-9065662c0cee"
      },
      "execution_count": null,
      "outputs": [
        {
          "output_type": "stream",
          "name": "stdout",
          "text": [
            "transitions 23\n",
            "transversions 1\n",
            "number of different sites 24\n",
            "locations at which sites differ [1, 6, 7, 9, 12, 13, 14, 16, 17, 18, 23, 26, 30, 31, 32, 36, 43, 45, 46, 54, 56, 57, 59]\n"
          ]
        }
      ]
    }
  ]
}