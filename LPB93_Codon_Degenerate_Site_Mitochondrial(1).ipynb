{
  "nbformat": 4,
  "nbformat_minor": 0,
  "metadata": {
    "colab": {
      "name": "LPB93 - Codon Degenerate Site- Mitochondrial",
      "provenance": [],
      "collapsed_sections": []
    },
    "kernelspec": {
      "name": "python3",
      "display_name": "Python 3"
    },
    "language_info": {
      "name": "python"
    }
  },
  "cells": [
    {
      "cell_type": "code",
      "execution_count": null,
      "metadata": {
        "id": "RSqgQYiW1ySK",
        "colab": {
          "base_uri": "https://localhost:8080/"
        },
        "outputId": "f68c08c1-a790-4c44-c9ec-01c4f5d1052c"
      },
      "outputs": [
        {
          "output_type": "stream",
          "name": "stdout",
          "text": [
            "['CAT', 'TGT', 'CTA', 'TTA', 'CTA']\n",
            "CAT\n",
            "[0, 0, 2]\n",
            "TGT\n",
            "[0, 0, 2]\n",
            "CTA\n",
            "[2, 0, 4]\n",
            "TTA\n",
            "[2, 0, 2]\n",
            "CTA\n",
            "[2, 0, 4]\n"
          ]
        }
      ],
      "source": [
        "seq='CATTGTCTATTACTA'\n",
        "n=3 #define codon length\n",
        "codons=[seq[i:i+n] for i in range(0, len(seq), n)]\n",
        "print(codons)\n",
        "\n",
        "thisdict = {\n",
        "    \"Arg\": ['CGT', 'CGC','CGA','CGG'],\n",
        "    \"Phe\": ['TTT','TTC'],\n",
        "    \"Leu\": ['TTA','TTG','CTT','CTC','CTA','CTG'],\n",
        "    \"Ile\": ['ATT','ATC'],\n",
        "    \"Met\": ['ATA','ATG'],\n",
        "    \"Val\": ['GTT','GTC','GTA','GTG'],\n",
        "    \"Ser\": ['TCT','TCC','TCA','TCG','AGT','AGC'],\n",
        "    \"Pro\": ['CCT,','CCC','CCA','CCG'],\n",
        "    \"Ala\": ['GCT','GCC','GCA','GCG'],\n",
        "    \"Thr\": ['ACT','ACC','ACA','ACG'],\n",
        "    \"Tyr\": ['TAT','TAC'],\n",
        "    \"His\": ['CAT','CAC'],\n",
        "    \"Gln\": ['CAA','CAG'],\n",
        "    \"Asn\": ['AAT','AAC'],\n",
        "    \"Lys\": ['AAA','AAG'],\n",
        "    'Asp': ['GAT','GAC'],\n",
        "    \"Glu\": ['GAA','GAG'],\n",
        "    \"Cys\": ['TGT','TGC'],\n",
        "    \"Trp\": ['TGA','TGG'],\n",
        "    \"Gly\": ['GGT','GGC','GGA','GGG'],\n",
        "    \"end(*)\":['TAA','TAG','AGA','AGG'],\n",
        "    }\n",
        "\n",
        "\n",
        "def degenerated_sites(codon):\n",
        "\n",
        "  '''From a dictionary list of a codon table, takes a codon as an input and returns \n",
        "  the degeneracy of each site of that codon as 0-fold, 2-fold or 4-fold. Codon table\n",
        "  is for mitochondrial vertebrate and DNA based, so U is replaced by. Does not rely\n",
        "  on external libraries to work.\n",
        "  '''\n",
        "\n",
        "  a_codon = list((codon))\n",
        "  b_codon = list((codon))\n",
        "  c_codon = list((codon))\n",
        "  nucleotides = ['A','C','T','G']\n",
        "  codons1=[]\n",
        "  codons2=[]\n",
        "  codons3=[]\n",
        "  \n",
        "\n",
        "  for i in range(len(nucleotides)):\n",
        "        a_codon[0] = nucleotides[i]\n",
        "        first_site = \"\".join(a_codon)\n",
        "        codons1.append(first_site)\n",
        "  for i in range (len(nucleotides)):\n",
        "        b_codon[1] = nucleotides[i]\n",
        "        second_site = \"\".join(b_codon)\n",
        "        codons2.append(second_site)\n",
        "  for i in range (len(nucleotides)):\n",
        "        c_codon[2] = nucleotides[i]\n",
        "        third_site = \"\".join(c_codon)\n",
        "        codons3.append(third_site)\n",
        "  codons1.remove(codon)\n",
        "  codons2.remove(codon)\n",
        "  codons3.remove(codon)\n",
        "\n",
        "  aa=[]\n",
        "  aa2=[]\n",
        "  aa3=[]\n",
        "\n",
        "  codonAA=[]\n",
        "  num=[0,0,0]\n",
        "    \n",
        "  for key, value in thisdict.items():\n",
        "      if codon in value:\n",
        "        codonAA.append(key)\n",
        "\n",
        "  for key, value in thisdict.items():\n",
        "        for i in range(len(codons1)): \n",
        "          if codons1[i] in value: \n",
        "            aa.append(key)\n",
        "\n",
        "  if (codonAA*3) == aa:\n",
        "        num[0]=4\n",
        "  elif (codonAA[0]) in aa:\n",
        "        num[0]=2\n",
        "  elif (codonAA[0]) not in aa:\n",
        "        num[0]=0\n",
        "\n",
        "  for key, value in thisdict.items():\n",
        "        for i in range(len(codons2)):\n",
        "          if codons2[i] in value: \n",
        "            aa2.append(key)\n",
        "\n",
        "  if (codonAA)*3 == aa2:\n",
        "        num[1]=4\n",
        "  elif (codonAA[0]) in aa2:\n",
        "        num[1]=2\n",
        "  elif (codonAA) not in aa2:\n",
        "        num[1]=0\n",
        "\n",
        "  for key, value in thisdict.items():\n",
        "        for i in range(len(codons3)):\n",
        "          if codons3[i] in value: \n",
        "            aa3.append(key)\n",
        "  \n",
        "  if len(aa3) == 2:\n",
        "    if (codonAA*2) == aa3:\n",
        "        num[2]=4\n",
        "  elif (codonAA)*3 == aa3:\n",
        "        num[2]=4\n",
        "  elif (codonAA[0]) in aa3:\n",
        "        num[2]=2\n",
        "  elif (codonAA) not in aa3:\n",
        "        num[2]=0\n",
        "\n",
        "\n",
        "  print(codon)\n",
        "  return num\n",
        "  return codon\n",
        "\n",
        "for i in range(len(codons)):\n",
        "  print(degenerated_sites(codons[i]))"
      ]
    },
    {
      "cell_type": "markdown",
      "source": [
        ""
      ],
      "metadata": {
        "id": "CHSIpJYED3U7"
      }
    },
    {
      "cell_type": "code",
      "source": [
        "number=degenerated_sites('CCA')\n",
        "L0=0\n",
        "L2=0\n",
        "L4=0\n",
        "\n",
        "for i in range(len(number)):\n",
        "    if number[0] is 0:\n",
        "      L0+=1\n",
        "    if number[1] is 0:\n",
        "      L0+=1\n",
        "    if number[2] is 0:\n",
        "      L0+=1\n",
        "    break\n",
        "for i in range(len(number)):\n",
        "    if number[0] is 2:\n",
        "      L2+=1\n",
        "    if number[1] is 2:\n",
        "      L2+=1\n",
        "    if number[2] is 2:\n",
        "      L2+=1\n",
        "    break\n",
        "for i in range(len(number)):\n",
        "    if number[0] is 4:\n",
        "      L4+=1\n",
        "    if number[1] is 4:\n",
        "      L4+=1\n",
        "    if number[2] is 4:\n",
        "      L4+=1\n",
        "    break\n",
        "\n",
        "print('L0 =',L0)\n",
        "print('L2 =',L2)\n",
        "print('L4 =',L4)\n"
      ],
      "metadata": {
        "id": "Z_s1Dv4VcoGI",
        "colab": {
          "base_uri": "https://localhost:8080/"
        },
        "outputId": "1723df70-4537-4d54-8018-0fbf4fbacf98"
      },
      "execution_count": null,
      "outputs": [
        {
          "output_type": "stream",
          "name": "stdout",
          "text": [
            "CCA\n",
            "L0 = 2\n",
            "L2 = 0\n",
            "L4 = 1\n"
          ]
        }
      ]
    }
  ]
}